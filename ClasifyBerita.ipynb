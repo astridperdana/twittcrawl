{
 "cells": [
  {
   "cell_type": "code",
   "execution_count": 1,
   "metadata": {},
   "outputs": [],
   "source": [
    "import sys"
   ]
  },
  {
   "cell_type": "code",
   "execution_count": 2,
   "metadata": {},
   "outputs": [],
   "source": [
    "from textblob.classifiers import NaiveBayesClassifier"
   ]
  },
  {
   "cell_type": "code",
   "execution_count": 7,
   "metadata": {},
   "outputs": [],
   "source": [
    "train = [\n",
    "    ('wn korsel gerebek pesta sabu usaha karaoke','narkotika'),\n",
    "    ('orang tabrak 3 orang mobil nggak tahu tangkap kubur mobil halaman rumah hilang barang bukti','pembunuhan'),\n",
    "    ('mayat wanita kawat gigi bogor orang marketing wo','pembunuhan'),\n",
    "    ('ngumpet hotel tampang koruptor 2 miliar tampak kaget tim jaksa kepung lobi hotel','kkn'),\n",
    "    ('tolak bungkam soal perkosa kazakstan konservatif','pemerkosaan'),\n",
    "    ('smp jadi psk pasutri aceh ciduk','pemerkosaan'),\n",
    "    ('usai tikam mati israel palestina tewas tembak','pembunuhan'),\n",
    "    ('bekuk komplot begal resah cakung','anirat'),\n",
    "    ('kejar begal lompat flyover tanah abang','anirat'),\n",
    "    ('curi kotak amal begal marak aksi penuh terima lapor','curas'),\n",
    "    ('bunuh gadis pandu karoke lalu cor kamar mandi motif begal sadis kendal','pembunuhan'),\n",
    "    ('satu anggota komplot begal tewas tembak pademangan','pembunuhan'),\n",
    "    ('milik ilmu kebal begal berani tantang jadi dor','anirat'),\n",
    "    ('ibu curi kolam renang ceria tirta tulungagung akhir','curas'),\n",
    "    ('cepat laku 3 curi motor jombang jual hasil curi facebook begini akibat','curas'),\n",
    "    ('remaja blitar punya nama unik mirip pahlawan laku tak patut tiru','anirat'),\n",
    "    ('durhaka suruh sekolah remaja tulungagung curi motor ibu','curas'),\n",
    "    ('pura sakit nekat buat kriminal masjid at-taqwa lamongan','anirat'),\n",
    "    ('astaga bukan sholat wanita curi masjid','curas'),\n",
    "    ('beli iphone obat pacar sakit perempuan curi uang milik teman','curas'),\n",
    "    ('deret mobil duga hasil korupsi bupati hulu tengah','kkn'),\n",
    "    ('gaya hidup eks teller bri tilap bantu siswa miskin','curas'),\n",
    "    ('aku zumi zola sidang suap rapbd jambi','kkn'),\n",
    "    ('kpk bantu kejat sumut buru sangka korupsi buron','kkn'),\n",
    "    ('seluruh kantor pajak bakal wilayah bebas korupsi','kkn'),\n",
    "    ('aniaya kasih dylan sada aku bodoh harap ubah','anirat'),\n",
    "    ('kpai keras dominasi laki','anirat'),\n",
    "    ('viral foto kepsek aniaya bikin warganet geram','anirat'),\n",
    "    ('awat lapor balik pasien tuduh leceh seksual','pemerkosaan'),\n",
    "    ('leceh seksual apartemen kelapa gading','pemerkosaan'),\n",
    "    ('lewat gang sempit gadis 19 tahun jatinegara leceh seksual','pemerkosaan'),\n",
    "    ('pernah janji tak laku jahat it hacker retas situs cuma butuh 5 menit','hack'),\n",
    "    ('usut hacker jaring black hat polri gandeng interpol fbi','hack'),\n",
    "    ('daftar puluh situs web malaysia kena serang hacker','hack'),\n",
    "    ('ungkap begini karakteristik hacker','hack'),\n",
    "    ('tipu arisan online bekas lapor','penipuan'),\n",
    "    ('cantik kaya raya bos teknologi seret kasus tipu besar','penipuan'),\n",
    "    ('modus staf khusus presiden gadungan jerat korban','penipuan'),\n",
    "    ('ringkus tipu catut nama kapolri tito karnavian','penipuan'),\n",
    "    ('angela lee 7 artis tuding laku tipu','penipuan'),\n",
    "    ('bnn aman 28 kg sabu 25 ribu ekstasi jaring napi','narkotika'),\n",
    "    ('foto ekspresi jennifer dunn jalan sidang perdana kasus narkoba','narkotika'),\n",
    "    ('2 remaja edar narkoba buat polisi pangkep gadang','narkotika'),\n",
    "    ('muncul kasus permen duga kandung narkoba kata bpom','narkotika'),\n",
    "    ('polri temu polisi taiwan soal sabu 1 6 ton','narkotika'),\n",
    "]"
   ]
  },
  {
   "cell_type": "code",
   "execution_count": 8,
   "metadata": {},
   "outputs": [],
   "source": [
    "test = [\n",
    "    ('koruptor uang negara pidana gugur','kkn'),\n",
    "    ('dokter pukul pasien serang tugas','anirat'),\n",
    "    ('kejam guru tendang kepala murid usai hukum','anirat'),\n",
    "    ('perempuan bagai negara masuk ungkap duga leceh ibadah haji','pemerkosaan'),\n",
    "    ('kisah bule skimming atm satu salah jahat miliar rupiah bongkar satpam','curas'),\n",
    "    ('hacker takut dunia fbi sampai kalang kabut fakta','hack'),\n",
    "    ('pensiun pns majalengka tipu ala mas kanjeng','penipuan'),\n",
    "    ('modus selebgram angela lee tipu jogja hingga 12 miliar','penipuan'),\n",
    "    ('sita sabu besar thailand 700 kg nila rp 308 miliar','narkotika'),\n",
    "    ('pensiun tni al korban bunuh pondok labu pernah maling','pembunuhan'),\n",
    "]"
   ]
  },
  {
   "cell_type": "code",
   "execution_count": 10,
   "metadata": {},
   "outputs": [],
   "source": [
    "cl = NaiveBayesClassifier(train)"
   ]
  },
  {
   "cell_type": "code",
   "execution_count": 12,
   "metadata": {},
   "outputs": [
    {
     "name": "stdout",
     "output_type": "stream",
     "text": [
      "koruptor uang negara pidana gugur anirat\n",
      "dokter pukul pasien serang tugas anirat\n",
      "kejam guru tendang kepala murid usai hukum anirat\n",
      "perempuan bagai negara masuk ungkap duga leceh ibadah haji anirat\n",
      "kisah bule skimming atm satu salah jahat miliar rupiah bongkar satpam anirat\n",
      "hacker takut dunia fbi sampai kalang kabut fakta anirat\n",
      "pensiun pns majalengka tipu ala mas kanjeng anirat\n",
      "modus selebgram angela lee tipu jogja hingga 12 miliar penipuan\n",
      "sita sabu besar thailand 700 kg nila rp 308 miliar anirat\n",
      "pensiun tni al korban bunuh pondok labu pernah maling anirat\n"
     ]
    },
    {
     "data": {
      "text/plain": [
       "0.3"
      ]
     },
     "execution_count": 12,
     "metadata": {},
     "output_type": "execute_result"
    }
   ],
   "source": [
    "for i in test:\n",
    "    print(i[0], cl.classify(i[0]))\n",
    "cl.accuracy(test)"
   ]
  },
  {
   "cell_type": "code",
   "execution_count": null,
   "metadata": {},
   "outputs": [],
   "source": []
  },
  {
   "cell_type": "code",
   "execution_count": null,
   "metadata": {},
   "outputs": [],
   "source": []
  }
 ],
 "metadata": {
  "kernelspec": {
   "display_name": "Python 3",
   "language": "python",
   "name": "python3"
  },
  "language_info": {
   "codemirror_mode": {
    "name": "ipython",
    "version": 3
   },
   "file_extension": ".py",
   "mimetype": "text/x-python",
   "name": "python",
   "nbconvert_exporter": "python",
   "pygments_lexer": "ipython3",
   "version": "3.6.4"
  }
 },
 "nbformat": 4,
 "nbformat_minor": 2
}
